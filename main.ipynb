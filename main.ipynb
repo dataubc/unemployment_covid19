{
 "cells": [
  {
   "cell_type": "markdown",
   "metadata": {},
   "source": [
    "### How employement in Canada has been affected by Covid19 ?"
   ]
  },
  {
   "cell_type": "markdown",
   "metadata": {},
   "source": [
    "Note: Data is up to June 2020."
   ]
  },
  {
   "cell_type": "code",
   "execution_count": 1,
   "metadata": {},
   "outputs": [],
   "source": [
    "import pandas as pd"
   ]
  },
  {
   "cell_type": "markdown",
   "metadata": {},
   "source": [
    "- let's take a look at the data\n"
   ]
  },
  {
   "cell_type": "code",
   "execution_count": 2,
   "metadata": {},
   "outputs": [
    {
     "data": {
      "text/html": [
       "<div>\n",
       "<style scoped>\n",
       "    .dataframe tbody tr th:only-of-type {\n",
       "        vertical-align: middle;\n",
       "    }\n",
       "\n",
       "    .dataframe tbody tr th {\n",
       "        vertical-align: top;\n",
       "    }\n",
       "\n",
       "    .dataframe thead th {\n",
       "        text-align: right;\n",
       "    }\n",
       "</style>\n",
       "<table border=\"1\" class=\"dataframe\">\n",
       "  <thead>\n",
       "    <tr style=\"text-align: right;\">\n",
       "      <th></th>\n",
       "      <th>0</th>\n",
       "      <th>1</th>\n",
       "      <th>2</th>\n",
       "      <th>3</th>\n",
       "      <th>4</th>\n",
       "      <th>5</th>\n",
       "      <th>6</th>\n",
       "      <th>7</th>\n",
       "      <th>8</th>\n",
       "      <th>9</th>\n",
       "      <th>10</th>\n",
       "      <th>11</th>\n",
       "      <th>12</th>\n",
       "      <th>13</th>\n",
       "    </tr>\n",
       "  </thead>\n",
       "  <tbody>\n",
       "    <tr>\n",
       "      <th>0</th>\n",
       "      <td>North American Industry Classification System ...</td>\n",
       "      <td>June 2019</td>\n",
       "      <td>July 2019</td>\n",
       "      <td>August 2019</td>\n",
       "      <td>September 2019</td>\n",
       "      <td>October 2019</td>\n",
       "      <td>November 2019</td>\n",
       "      <td>December 2019</td>\n",
       "      <td>January 2020</td>\n",
       "      <td>February 2020</td>\n",
       "      <td>March 2020</td>\n",
       "      <td>April 2020</td>\n",
       "      <td>May 2020</td>\n",
       "      <td>June 2020</td>\n",
       "    </tr>\n",
       "    <tr>\n",
       "      <th>1</th>\n",
       "      <td>NaN</td>\n",
       "      <td>Persons</td>\n",
       "      <td>NaN</td>\n",
       "      <td>NaN</td>\n",
       "      <td>NaN</td>\n",
       "      <td>NaN</td>\n",
       "      <td>NaN</td>\n",
       "      <td>NaN</td>\n",
       "      <td>NaN</td>\n",
       "      <td>NaN</td>\n",
       "      <td>NaN</td>\n",
       "      <td>NaN</td>\n",
       "      <td>NaN</td>\n",
       "      <td>NaN</td>\n",
       "    </tr>\n",
       "    <tr>\n",
       "      <th>2</th>\n",
       "      <td>Industrial aggregate including unclassified bu...</td>\n",
       "      <td>17,268,127</td>\n",
       "      <td>17,063,598</td>\n",
       "      <td>16,880,063</td>\n",
       "      <td>17,194,039</td>\n",
       "      <td>17,230,513</td>\n",
       "      <td>17,207,098</td>\n",
       "      <td>17,230,980</td>\n",
       "      <td>16,792,802</td>\n",
       "      <td>16,757,484</td>\n",
       "      <td>15,828,844</td>\n",
       "      <td>14,044,320</td>\n",
       "      <td>13,773,684</td>\n",
       "      <td>14,689,243</td>\n",
       "    </tr>\n",
       "    <tr>\n",
       "      <th>3</th>\n",
       "      <td>Industrial aggregate excluding unclassified bu...</td>\n",
       "      <td>16,957,344</td>\n",
       "      <td>16,749,357</td>\n",
       "      <td>16,558,361</td>\n",
       "      <td>16,883,924</td>\n",
       "      <td>16,915,542</td>\n",
       "      <td>16,898,817</td>\n",
       "      <td>16,916,185</td>\n",
       "      <td>16,477,363</td>\n",
       "      <td>16,449,918</td>\n",
       "      <td>15,538,499</td>\n",
       "      <td>13,793,669</td>\n",
       "      <td>13,539,625</td>\n",
       "      <td>14,432,303</td>\n",
       "    </tr>\n",
       "    <tr>\n",
       "      <th>4</th>\n",
       "      <td>Goods producing industries 8</td>\n",
       "      <td>3,073,670</td>\n",
       "      <td>3,092,368</td>\n",
       "      <td>3,095,380</td>\n",
       "      <td>3,083,282</td>\n",
       "      <td>3,060,314</td>\n",
       "      <td>3,023,667</td>\n",
       "      <td>2,969,948</td>\n",
       "      <td>2,838,126</td>\n",
       "      <td>2,852,630</td>\n",
       "      <td>2,653,933</td>\n",
       "      <td>2,382,683</td>\n",
       "      <td>2,496,445</td>\n",
       "      <td>2,724,433</td>\n",
       "    </tr>\n",
       "  </tbody>\n",
       "</table>\n",
       "</div>"
      ],
      "text/plain": [
       "                                                  0           1           2   \\\n",
       "0  North American Industry Classification System ...   June 2019   July 2019   \n",
       "1                                                NaN     Persons         NaN   \n",
       "2  Industrial aggregate including unclassified bu...  17,268,127  17,063,598   \n",
       "3  Industrial aggregate excluding unclassified bu...  16,957,344  16,749,357   \n",
       "4                       Goods producing industries 8   3,073,670   3,092,368   \n",
       "\n",
       "            3               4             5              6              7   \\\n",
       "0  August 2019  September 2019  October 2019  November 2019  December 2019   \n",
       "1          NaN             NaN           NaN            NaN            NaN   \n",
       "2   16,880,063      17,194,039    17,230,513     17,207,098     17,230,980   \n",
       "3   16,558,361      16,883,924    16,915,542     16,898,817     16,916,185   \n",
       "4    3,095,380       3,083,282     3,060,314      3,023,667      2,969,948   \n",
       "\n",
       "             8              9           10          11          12          13  \n",
       "0  January 2020  February 2020  March 2020  April 2020    May 2020   June 2020  \n",
       "1           NaN            NaN         NaN         NaN         NaN         NaN  \n",
       "2    16,792,802     16,757,484  15,828,844  14,044,320  13,773,684  14,689,243  \n",
       "3    16,477,363     16,449,918  15,538,499  13,793,669  13,539,625  14,432,303  \n",
       "4     2,838,126      2,852,630   2,653,933   2,382,683   2,496,445   2,724,433  "
      ]
     },
     "execution_count": 2,
     "metadata": {},
     "output_type": "execute_result"
    }
   ],
   "source": [
    "data = pd.read_csv('data/1410020101-noSymbol.csv',header=None,engine='python', skiprows=5,skipfooter=21)\n",
    "data.head()"
   ]
  },
  {
   "cell_type": "markdown",
   "metadata": {},
   "source": [
    "- Well, clearly we need to tidy things up, will start with getting rid of the second row as it contains no useful information"
   ]
  },
  {
   "cell_type": "code",
   "execution_count": 3,
   "metadata": {},
   "outputs": [
    {
     "data": {
      "text/html": [
       "<div>\n",
       "<style scoped>\n",
       "    .dataframe tbody tr th:only-of-type {\n",
       "        vertical-align: middle;\n",
       "    }\n",
       "\n",
       "    .dataframe tbody tr th {\n",
       "        vertical-align: top;\n",
       "    }\n",
       "\n",
       "    .dataframe thead th {\n",
       "        text-align: right;\n",
       "    }\n",
       "</style>\n",
       "<table border=\"1\" class=\"dataframe\">\n",
       "  <thead>\n",
       "    <tr style=\"text-align: right;\">\n",
       "      <th></th>\n",
       "      <th>0</th>\n",
       "      <th>1</th>\n",
       "      <th>2</th>\n",
       "      <th>3</th>\n",
       "      <th>4</th>\n",
       "      <th>5</th>\n",
       "      <th>6</th>\n",
       "      <th>7</th>\n",
       "      <th>8</th>\n",
       "      <th>9</th>\n",
       "      <th>10</th>\n",
       "      <th>11</th>\n",
       "      <th>12</th>\n",
       "      <th>13</th>\n",
       "    </tr>\n",
       "  </thead>\n",
       "  <tbody>\n",
       "    <tr>\n",
       "      <th>0</th>\n",
       "      <td>North American Industry Classification System ...</td>\n",
       "      <td>June 2019</td>\n",
       "      <td>July 2019</td>\n",
       "      <td>August 2019</td>\n",
       "      <td>September 2019</td>\n",
       "      <td>October 2019</td>\n",
       "      <td>November 2019</td>\n",
       "      <td>December 2019</td>\n",
       "      <td>January 2020</td>\n",
       "      <td>February 2020</td>\n",
       "      <td>March 2020</td>\n",
       "      <td>April 2020</td>\n",
       "      <td>May 2020</td>\n",
       "      <td>June 2020</td>\n",
       "    </tr>\n",
       "    <tr>\n",
       "      <th>2</th>\n",
       "      <td>Industrial aggregate including unclassified bu...</td>\n",
       "      <td>17,268,127</td>\n",
       "      <td>17,063,598</td>\n",
       "      <td>16,880,063</td>\n",
       "      <td>17,194,039</td>\n",
       "      <td>17,230,513</td>\n",
       "      <td>17,207,098</td>\n",
       "      <td>17,230,980</td>\n",
       "      <td>16,792,802</td>\n",
       "      <td>16,757,484</td>\n",
       "      <td>15,828,844</td>\n",
       "      <td>14,044,320</td>\n",
       "      <td>13,773,684</td>\n",
       "      <td>14,689,243</td>\n",
       "    </tr>\n",
       "    <tr>\n",
       "      <th>3</th>\n",
       "      <td>Industrial aggregate excluding unclassified bu...</td>\n",
       "      <td>16,957,344</td>\n",
       "      <td>16,749,357</td>\n",
       "      <td>16,558,361</td>\n",
       "      <td>16,883,924</td>\n",
       "      <td>16,915,542</td>\n",
       "      <td>16,898,817</td>\n",
       "      <td>16,916,185</td>\n",
       "      <td>16,477,363</td>\n",
       "      <td>16,449,918</td>\n",
       "      <td>15,538,499</td>\n",
       "      <td>13,793,669</td>\n",
       "      <td>13,539,625</td>\n",
       "      <td>14,432,303</td>\n",
       "    </tr>\n",
       "    <tr>\n",
       "      <th>4</th>\n",
       "      <td>Goods producing industries 8</td>\n",
       "      <td>3,073,670</td>\n",
       "      <td>3,092,368</td>\n",
       "      <td>3,095,380</td>\n",
       "      <td>3,083,282</td>\n",
       "      <td>3,060,314</td>\n",
       "      <td>3,023,667</td>\n",
       "      <td>2,969,948</td>\n",
       "      <td>2,838,126</td>\n",
       "      <td>2,852,630</td>\n",
       "      <td>2,653,933</td>\n",
       "      <td>2,382,683</td>\n",
       "      <td>2,496,445</td>\n",
       "      <td>2,724,433</td>\n",
       "    </tr>\n",
       "    <tr>\n",
       "      <th>5</th>\n",
       "      <td>Forestry, logging and support 9</td>\n",
       "      <td>43,805</td>\n",
       "      <td>44,917</td>\n",
       "      <td>43,145</td>\n",
       "      <td>40,664</td>\n",
       "      <td>39,104</td>\n",
       "      <td>37,486</td>\n",
       "      <td>36,332</td>\n",
       "      <td>33,266</td>\n",
       "      <td>33,022</td>\n",
       "      <td>32,176</td>\n",
       "      <td>27,189</td>\n",
       "      <td>29,329</td>\n",
       "      <td>37,368</td>\n",
       "    </tr>\n",
       "  </tbody>\n",
       "</table>\n",
       "</div>"
      ],
      "text/plain": [
       "                                                  0           1           2   \\\n",
       "0  North American Industry Classification System ...   June 2019   July 2019   \n",
       "2  Industrial aggregate including unclassified bu...  17,268,127  17,063,598   \n",
       "3  Industrial aggregate excluding unclassified bu...  16,957,344  16,749,357   \n",
       "4                       Goods producing industries 8   3,073,670   3,092,368   \n",
       "5                    Forestry, logging and support 9      43,805      44,917   \n",
       "\n",
       "            3               4             5              6              7   \\\n",
       "0  August 2019  September 2019  October 2019  November 2019  December 2019   \n",
       "2   16,880,063      17,194,039    17,230,513     17,207,098     17,230,980   \n",
       "3   16,558,361      16,883,924    16,915,542     16,898,817     16,916,185   \n",
       "4    3,095,380       3,083,282     3,060,314      3,023,667      2,969,948   \n",
       "5       43,145          40,664        39,104         37,486         36,332   \n",
       "\n",
       "             8              9           10          11          12          13  \n",
       "0  January 2020  February 2020  March 2020  April 2020    May 2020   June 2020  \n",
       "2    16,792,802     16,757,484  15,828,844  14,044,320  13,773,684  14,689,243  \n",
       "3    16,477,363     16,449,918  15,538,499  13,793,669  13,539,625  14,432,303  \n",
       "4     2,838,126      2,852,630   2,653,933   2,382,683   2,496,445   2,724,433  \n",
       "5        33,266         33,022      32,176      27,189      29,329      37,368  "
      ]
     },
     "execution_count": 3,
     "metadata": {},
     "output_type": "execute_result"
    }
   ],
   "source": [
    "data = data.drop([1])\n",
    "data.head()"
   ]
  },
  {
   "cell_type": "markdown",
   "metadata": {},
   "source": [
    "- That's better, but we need to now transpose the data to facilate plotting"
   ]
  },
  {
   "cell_type": "code",
   "execution_count": null,
   "metadata": {},
   "outputs": [],
   "source": [
    "data = data.transpose()\n",
    "n_header = data.iloc[0] \n",
    "data = data[1:]\n",
    "data.columns = n_header\n",
    "data.head()"
   ]
  },
  {
   "cell_type": "markdown",
   "metadata": {},
   "source": [
    "- Some of the columns are not expressive, so will remove them at they don't provide useful for us as readers. For analysts, more digging is needed!"
   ]
  },
  {
   "cell_type": "code",
   "execution_count": null,
   "metadata": {},
   "outputs": [],
   "source": [
    "df_temp = data.copy()\n",
    "df_temp.drop(['North American Industry Classification System (NAICS)4','Industrial aggregate including unclassified businesses 6 7',\n",
    "             'Industrial aggregate excluding unclassified businesses 6 7','Unclassified businesses 7',\n",
    "             'Other services (except public administration)','Service producing industries 10'],axis=1 ,inplace=True)\n",
    "df_temp = df_temp.replace(',','', regex=True) # removing the commas from all columns at once\n",
    "df_temp = df_temp.apply(pd.to_numeric, errors='coerce')\n",
    "df_temp = df_temp.iloc[0:1,:].transpose()\n",
    "df_temp.columns = ['plot']"
   ]
  },
  {
   "cell_type": "markdown",
   "metadata": {},
   "source": [
    "- Now we can have our initial plot, exploring the constribution of each sector"
   ]
  },
  {
   "cell_type": "code",
   "execution_count": null,
   "metadata": {},
   "outputs": [],
   "source": [
    "plot = df_temp.plot.pie(y='plot', figsize=(15, 15));\n",
    "plot.get_legend().remove()"
   ]
  },
  {
   "cell_type": "markdown",
   "metadata": {},
   "source": [
    "> Trade, good producing industries and health care represent the major players"
   ]
  },
  {
   "cell_type": "markdown",
   "metadata": {},
   "source": [
    "- Now let's see how each one of these industries are holding up!"
   ]
  },
  {
   "cell_type": "code",
   "execution_count": null,
   "metadata": {},
   "outputs": [],
   "source": [
    "# we will first some cleaning and also convert the date column into the porper format\n",
    "data = data.replace(',','', regex=True) # removing the commas from all columns at once\n",
    "data.iloc[:,0] = pd.to_datetime(data.iloc[:,0]) # this to_datetim is smart, let it do what it can first before trying to enforce a certain format"
   ]
  },
  {
   "cell_type": "code",
   "execution_count": null,
   "metadata": {},
   "outputs": [],
   "source": [
    "data.head()"
   ]
  },
  {
   "cell_type": "code",
   "execution_count": null,
   "metadata": {},
   "outputs": [],
   "source": [
    "# we need to rename the date column"
   ]
  },
  {
   "cell_type": "code",
   "execution_count": null,
   "metadata": {},
   "outputs": [],
   "source": [
    "cols = data.columns.drop('North American Industry Classification System (NAICS)4')\n",
    "df = data[cols].copy()\n",
    "df[cols] = df[cols].apply(pd.to_numeric, errors='coerce')\n",
    "df['date'] = data['North American Industry Classification System (NAICS)4']"
   ]
  },
  {
   "cell_type": "code",
   "execution_count": null,
   "metadata": {},
   "outputs": [],
   "source": [
    "df = df.set_index('date')"
   ]
  },
  {
   "cell_type": "code",
   "execution_count": null,
   "metadata": {},
   "outputs": [],
   "source": [
    "df"
   ]
  },
  {
   "cell_type": "code",
   "execution_count": null,
   "metadata": {},
   "outputs": [],
   "source": [
    "# let's look at all coolumns\n",
    "df.columns"
   ]
  },
  {
   "cell_type": "code",
   "execution_count": null,
   "metadata": {},
   "outputs": [],
   "source": [
    "cols_plot = ['Goods producing industries 8','Transportation and warehousing', 'Forestry, logging and support 9',\n",
    "             'Mining, quarrying, and oil and gas extraction', 'Construction','Information and cultural industries',\n",
    "            'Finance and insurance','Real estate and rental and leasing']\n",
    "axes = df[cols_plot].plot(marker='*', linestyle='None', figsize=(15, 15), subplots=True)\n",
    "for ax in axes:\n",
    "    ax.set_ylabel('Employment')"
   ]
  },
  {
   "cell_type": "markdown",
   "metadata": {},
   "source": [
    "- In Canda, as the year 2020 was starting, news of the pandemic started to hit home but people were still not aware of its impact on their livelihood. But the numbers show that employment numbers were slowly declining since January with the biggest shock felt in March when the lockdown was announced."
   ]
  },
  {
   "cell_type": "markdown",
   "metadata": {},
   "source": [
    "- The good news is that we see all industries starting to rebound by June. However, some industries are bouncing much faster than others such as Forestry, Goods-producing industries as well as Construction. The least improvement is seen understandably in the Finance sector, Real State, and Transportation. Lagging far behind are the most negatively impacted industries: Mining, oil and gas, and Information and cultural industries.  The recent data released just weeks ago only show the numbers up to June, hopefully, we will see much better data for July and August once the data released."
   ]
  }
 ],
 "metadata": {
  "kernelspec": {
   "display_name": "Python 3",
   "language": "python",
   "name": "python3"
  },
  "language_info": {
   "codemirror_mode": {
    "name": "ipython",
    "version": 3
   },
   "file_extension": ".py",
   "mimetype": "text/x-python",
   "name": "python",
   "nbconvert_exporter": "python",
   "pygments_lexer": "ipython3",
   "version": "3.8.3"
  }
 },
 "nbformat": 4,
 "nbformat_minor": 4
}
